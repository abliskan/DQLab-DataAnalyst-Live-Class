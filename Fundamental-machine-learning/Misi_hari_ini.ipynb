{
  "nbformat": 4,
  "nbformat_minor": 0,
  "metadata": {
    "colab": {
      "provenance": []
    },
    "kernelspec": {
      "name": "python3",
      "display_name": "Python 3"
    },
    "language_info": {
      "name": "python"
    }
  },
  "cells": [
    {
      "cell_type": "code",
      "source": [
        "# import library\n",
        "import pandas as pd\n",
        "import numpy as np\n",
        "import matplotlib.pyplot as plt\n",
        "import seaborn as sns\n",
        "\n",
        "from sklearn.preprocessing import StandardScaler, LabelEncoder\n",
        "from sklearn.model_selection import train_test_split\n",
        "\n",
        "from sklearn.tree import DecisionTreeClassifier\n",
        "from sklearn.ensemble import GradientBoostingClassifier\n",
        "\n",
        "from sklearn.metrics import classification_report, accuracy_score, confusion_matrix"
      ],
      "metadata": {
        "id": "jCR1UnTLHK2n"
      },
      "execution_count": null,
      "outputs": []
    },
    {
      "cell_type": "code",
      "source": [
        "# load dataset\n",
        "df = pd.read_csv('Data-Mission.csv');"
      ],
      "metadata": {
        "id": "cJgUeqDNHV8i"
      },
      "execution_count": null,
      "outputs": []
    },
    {
      "cell_type": "markdown",
      "source": [
        "# Sesi-16 :"
      ],
      "metadata": {
        "id": "tRPxJZ4nBL2y"
      }
    },
    {
      "cell_type": "markdown",
      "source": [
        "## Objective:\n",
        "* Data Preprocessing\n",
        "1. Lakukan Encoding data kolom Label, 'profit' menjadi 1, 'loss' menjadi 0\n",
        "2. Lakukan Encoding data categorical, gunakan One Hot Encoding (Dummy Variable) untuk kolom yang memiliki kategori yang kurang dari 10, sedangkan kolom lain menggunakan teknik Label Encoding\n",
        "3. Transformasi nilai discount dengan menggunakan fungsi log1p dari numpy, dan tampilkan histogram hasilnya\n",
        "4. Kemudian pisahkan antara kolom variable dan target.\n",
        "5. Kemudian lakukan train test split dengan ratio 0,75 dan 0,25 dan set random_state=0\n",
        "\n",
        "* Model Development\n",
        "1. Bangun model Decision Tree (random state = 0) dengan menggunakan dataset training\n",
        "2. Lakukan prediksi pada dataset training dan testing dengan model DT yang dibangun\n",
        "3. Analisis performa prediksi pada data train dan test dengan melihat classification report dan nilai akurasi sebagai performance metric\n",
        "\n",
        "* Pengayaan\n",
        "1. Bangun model dengan menggunakan algoritma Gradient Boosting (random state = 0)\n",
        "2. Analisis performa algoritma Gradient Boosting"
      ],
      "metadata": {
        "id": "OuMol8ISAyTr"
      }
    },
    {
      "cell_type": "code",
      "execution_count": null,
      "metadata": {
        "id": "53FsbBpkD71y"
      },
      "outputs": [],
      "source": [
        "#Lakukan Encoding data kolom Label, 'profit' menjadi 1, 'loss' menjadi 0\n",
        "mapping = {\"Profit\": 1, 'Loss':0}\n",
        "data_df['Label'] = data_df.Label.map(mapping)\n",
        "\n",
        "# Lakukan Encoding data categorical, gunakan One Hot Encoding (Dummy Variable) untuk kolom yang memiliki kategori yang kurang dari 10, sedangkan kolom lain menggunakan teknik Label Encoding\n",
        "categori_banyak = [ 'Top Branch', 'Top Sub-Product', 'Top City', 'Month']\n",
        "encoder = LabelEncoder()\n",
        "X_labels = data_df[categori_banyak]\n",
        "X_labels = X_labels.apply(encoder.fit_transform)\n",
        "\n",
        "X_dummies = pd.get_dummies(data_df[['Region','Top Product', 'Top Cust Segment', 'Top Ship Mode']])\n",
        "\n",
        "# Transformasi nilai discount dengan menggunakan fungsi log1p dari numpy, dan tampilkan histogram hasilnya\n",
        "data_df['Discount'] = data_df.Discount.apply(np.log1p)\n",
        "data_df.Discount.hist()\n",
        "\n",
        "# Pisahkan antara kolom-kolom variable dan target.\n",
        "X = pd.concat([X_labels, X_dummies, data_df['Discount']], axis= 1)\n",
        "y = data_df['Label']\n",
        "print(X.shape, y.shape)\n",
        "\n",
        "# Kemudian lakukan train test split dengan ratio 0,75 dan 0,25 dan set random_state=0\n",
        "X_train, X_test, y_train, y_test = train_test_split(X, y, test_size = 0.25, stratify = y, random_state=0)\n",
        "print('Data Training: X', X_train.shape, 'Y', y_train.shape)\n",
        "print('Data Test: X', X_test.shape, 'Y', y_test.shape)\n",
        "\n",
        "# Bangun model Decision Tree (random state = 0) dengan menggunakan dataset training\n",
        "dt_mod = DecisionTreeClassifier(random_state=0)\n",
        "dt_mod.fit(X_train, y_train)\n",
        "\n",
        "# Lakukan prediksi pada dataset training dan testing dengan model DT yang dibangun\n",
        "y_pred_train = dt_mod.predict(X_train)\n",
        "\n",
        "y_pred_test = dt_mod.predict(X_test)\n",
        "\n",
        "# Analisis performa prediksi pada data train dan test dengan melihat classification report dan nilai akurasi sebagai performance metric\n",
        "# Akurasi pada dataset training\n",
        "acc_train = accuracy_score(y_train, y_pred_train)\n",
        "\n",
        "# Akurasi pada dataset test\n",
        "acc_test = accuracy_score(y_test, y_pred_test)\n",
        "\n",
        "print('Akurasi Training', acc_train)\n",
        "print('Akurasi Testing', acc_test)\n",
        "\n",
        "print(classification_report(y_test, y_pred_test))\n",
        "\n",
        "# Bangun model dengan menggunakan algoritma algoritma Gradient Boosting dengan random state = 0\n",
        "gb_mod = GradientBoostingClassifier(random_state=0)\n",
        "gb_mod.fit(X_train, y_train)\n",
        "\n",
        "# Analisis model Gradient Boosting\n",
        "y_pred_train = gb_mod.predict(X_train)\n",
        "\n",
        "y_pred_test = gb_mod.predict(X_test)\n",
        "\n",
        "# Akurasi pada dataset training\n",
        "acc_train = accuracy_score(y_train, y_pred_train)\n",
        "\n",
        "# Akurasi pada dataset test\n",
        "acc_test = accuracy_score(y_test, y_pred_test)\n",
        "\n",
        "print('Akurasi Training', acc_train)\n",
        "print('Akurasi Testing', acc_test)\n",
        "\n",
        "print(classification_report(y_test, y_pred_test))"
      ]
    }
  ]
}