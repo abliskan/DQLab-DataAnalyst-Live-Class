{
  "nbformat": 4,
  "nbformat_minor": 0,
  "metadata": {
    "colab": {
      "provenance": []
    },
    "kernelspec": {
      "name": "python3",
      "display_name": "Python 3"
    },
    "language_info": {
      "name": "python"
    }
  },
  "cells": [
    {
      "cell_type": "code",
      "source": [
        "# import library\n",
        "import pandas as pd\n",
        "import seaborn as sns\n",
        "import matplotlib.pyplot as plt"
      ],
      "metadata": {
        "id": "jCR1UnTLHK2n"
      },
      "execution_count": null,
      "outputs": []
    },
    {
      "cell_type": "code",
      "source": [
        "# load dataset\n",
        "df = pd.read_csv('Copy_of_SuperStore.csv');"
      ],
      "metadata": {
        "id": "cJgUeqDNHV8i"
      },
      "execution_count": null,
      "outputs": []
    },
    {
      "cell_type": "markdown",
      "source": [
        "# Sesi-7: Variabel dan tipe data, operator matematika, serta string functions and methods"
      ],
      "metadata": {
        "id": "tRPxJZ4nBL2y"
      }
    },
    {
      "cell_type": "markdown",
      "source": [
        "## Objective1: Pisahkan Customer Name menjadi dua komponen yaitu First_Name dan Last_Name"
      ],
      "metadata": {
        "id": "OuMol8ISAyTr"
      }
    },
    {
      "cell_type": "code",
      "execution_count": null,
      "metadata": {
        "id": "53FsbBpkD71y"
      },
      "outputs": [],
      "source": [
        "# Pisahkan Customer Name menjadi dua komponen yaitu First_Name dan Last_Name\n",
        "name = df['Customer_Name']\n",
        "df['First_Name'] = name.str.split(' ').str.get(0)\n",
        "df['Last_Name'] = name.str.split(' ').str[1:].apply(lambda x: ' '.join(x))\n",
        "\n",
        "# tampilkan 5 baris pertama\n",
        "print(df.head())"
      ]
    },
    {
      "cell_type": "markdown",
      "source": [
        "# Sesi-8: Struktur data"
      ],
      "metadata": {
        "id": "x1WsmT4ABg9V"
      }
    },
    {
      "cell_type": "markdown",
      "source": [
        "## Objective: Diberikan dictionary sebagai berikut\n",
        "```\n",
        "konsumen = {\n",
        "   'nama' : 'Claire',\n",
        "   'voucher' : [10, 15, 20, 25, 30, 50]\n",
        "}\n",
        "```\n",
        "Tampilkan 3 voucher dengan nilai terrendah dari konsumen bernama Claire"
      ],
      "metadata": {
        "id": "BgcxeIYiB3LK"
      }
    },
    {
      "cell_type": "code",
      "source": [
        "konsumen = {\n",
        "    'nama' : 'Claire',\n",
        "    'voucher' : [10, 15, 20, 25, 30, 50]\n",
        "}\n",
        "\n",
        "print(konsumen['voucher'][:3])"
      ],
      "metadata": {
        "id": "rwtotBRxBhNd"
      },
      "execution_count": null,
      "outputs": []
    },
    {
      "cell_type": "markdown",
      "source": [
        "# Sesi-9: IF logic, function, dan loop"
      ],
      "metadata": {
        "id": "ekI7YIG3CN2k"
      }
    },
    {
      "cell_type": "markdown",
      "source": [
        "## Objective: Buatlah kalkulator sederhana yang dapat mengoperasikan dua bilangan dengan operasi dasar x, /, +, -"
      ],
      "metadata": {
        "id": "KaFsLVfECWwV"
      }
    },
    {
      "cell_type": "code",
      "source": [
        "def kalkulator(num1,operator,num2):\n",
        "    if operator == \"+\":\n",
        "        result = num1 + num2\n",
        "    elif operator == \"-\":\n",
        "        result = num1 - num2\n",
        "    elif operator == \"*\":\n",
        "        result = num1 * num2\n",
        "    elif operator == \"/\":\n",
        "        if num2 != 0:\n",
        "            result = num1 / num2\n",
        "        else:\n",
        "            print(\"Error: Tidak bisa dibagi dengan nol!\")\n",
        "            return\n",
        "\n",
        "    print(\"Hasil: \", result)\n",
        "\n",
        "kalkulator(1,'+',2)\n",
        "kalkulator(3,'-',2)\n",
        "kalkulator(4,'*',2)\n",
        "kalkulator(6,'/',2)"
      ],
      "metadata": {
        "id": "m_E7JGbBCN_s"
      },
      "execution_count": null,
      "outputs": []
    },
    {
      "cell_type": "markdown",
      "source": [
        "# Sesi-10: Pandas dan manipulasi data"
      ],
      "metadata": {
        "id": "1ciOMOEdEwPY"
      }
    },
    {
      "cell_type": "markdown",
      "source": [
        "## Objective: Tentukan total penjualan untuk setiap kategori barang pada setiap pasangan Region dan Segment"
      ],
      "metadata": {
        "id": "6F1-lu2oFOFf"
      }
    },
    {
      "cell_type": "code",
      "source": [
        "print(pd.pivot_table(\n",
        "\tdata=df,\n",
        "\tindex=['Region','Segment'],\n",
        "\tcolumns='Category',\n",
        "\tvalues='Sales',\n",
        "\taggfunc='sum'\n",
        "))"
      ],
      "metadata": {
        "id": "ludTL2HTEwlo"
      },
      "execution_count": null,
      "outputs": []
    },
    {
      "cell_type": "markdown",
      "source": [
        "## Sesi-11: Handling Missing Data"
      ],
      "metadata": {
        "id": "ExzcE1mTGCdN"
      }
    },
    {
      "cell_type": "markdown",
      "source": [
        "## Objective: Isi missing values pada kolom Sales dengan menggunakan nilai median"
      ],
      "metadata": {
        "id": "UKiqWdg2GI3M"
      }
    },
    {
      "cell_type": "code",
      "source": [
        "# Isi missing values pada kolom Sales dengan menggunakan nilai median\n",
        "df.fillna(df.median)\n",
        "\n",
        "total_na_sales = df['Sales'].isna().sum()\n",
        "\n",
        "print(total_na_sales)"
      ],
      "metadata": {
        "id": "KBrK8oNaGClk"
      },
      "execution_count": null,
      "outputs": []
    },
    {
      "cell_type": "markdown",
      "source": [
        "# Sesi-12: Exploratory Data Analysis (EDA) menggunakan visualisasi data"
      ],
      "metadata": {
        "id": "abhgfA_7Gfkh"
      }
    },
    {
      "cell_type": "markdown",
      "source": [
        "## Buat clustered bar chart yang menampilkan total sales berdasarkan Region dan Category"
      ],
      "metadata": {
        "id": "iBsLFGc9G_N4"
      }
    },
    {
      "cell_type": "code",
      "source": [
        "sales = pd.pivot_table(\n",
        "    data=df,\n",
        "    index=['Region','Category'],\n",
        "    values='Sales',\n",
        "    aggfunc='sum'\n",
        ").reset_index()\n",
        "\n",
        "print(sales)\n",
        "\n",
        "sns.barplot(\n",
        "    data=sales,\n",
        "    x='Region',\n",
        "    y='Sales',\n",
        "    hue='Category'\n",
        ")\n",
        "plt.show()"
      ],
      "metadata": {
        "id": "ZQlnkO7SGf1J"
      },
      "execution_count": null,
      "outputs": []
    }
  ]
}